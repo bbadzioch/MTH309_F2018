{
 "cells": [
  {
   "cell_type": "markdown",
   "metadata": {},
   "source": [
    "### <span style=\"color:red\">**IMPORTANT: Execute the cell below before proceeding:**</span> "
   ]
  },
  {
   "cell_type": "code",
   "execution_count": null,
   "metadata": {},
   "outputs": [],
   "source": [
    "from resources309 import *\n",
    "get_resources(\"hill_cipher.py\")\n",
    "\n",
    "from py309.hill_cipher import *\n",
    "from sympy import *\n",
    "init_printing(use_latex='mathjax')"
   ]
  },
  {
   "cell_type": "markdown",
   "metadata": {},
   "source": [
    "# Hill cipher extra credit exercise"
   ]
  },
  {
   "cell_type": "markdown",
   "metadata": {},
   "source": [
    "**Note:** The functions `char2num()` and `num2char()` should be helpful with this exercise. `char2num()` converts capital letters into numbers:"
   ]
  },
  {
   "cell_type": "code",
   "execution_count": 16,
   "metadata": {},
   "outputs": [
    {
     "data": {
      "text/latex": [
       "$$\\left [ 1, \\quad 2, \\quad 3, \\quad 4, \\quad 5, \\quad 6\\right ]$$"
      ],
      "text/plain": [
       "[1, 2, 3, 4, 5, 6]"
      ]
     },
     "execution_count": 16,
     "metadata": {},
     "output_type": "execute_result"
    }
   ],
   "source": [
    "char2num(\"ABCDEF\")"
   ]
  },
  {
   "cell_type": "markdown",
   "metadata": {},
   "source": [
    "Conversely, `num2char()` converts a list of numbers into corresponding characters. It also displays a black block for each number on the list that does not correspond to any character:"
   ]
  },
  {
   "cell_type": "code",
   "execution_count": 14,
   "metadata": {},
   "outputs": [
    {
     "name": "stdout",
     "output_type": "stream",
     "text": [
      "  20   8   9  19   0   9  19   0   1   0  20   5  19  20 100  -1\n",
      "   T   H   I   S   _   I   S   _   A   _   T   E   S   T   █   █\n",
      "\n"
     ]
    }
   ],
   "source": [
    "mylist = [20,8,9,19,0,9,19,0,1,0,20,5,19,20, 100, -1]\n",
    "num2char(mylist)"
   ]
  },
  {
   "cell_type": "markdown",
   "metadata": {},
   "source": [
    "----"
   ]
  },
  {
   "cell_type": "markdown",
   "metadata": {},
   "source": [
    "### Extra credit exercise\n",
    "\n",
    "<span style=\"color:red\">**Grading information here**</span> \n",
    "\n",
    "Execute the next cell to produce a message encrypted with the Hill cipher cipher:"
   ]
  },
  {
   "cell_type": "code",
   "execution_count": null,
   "metadata": {},
   "outputs": [],
   "source": [
    "cipher = make_cipher()\n",
    "cipher"
   ]
  },
  {
   "cell_type": "markdown",
   "metadata": {},
   "source": [
    "The message starts with the word \"CLASSIFIED\". Decrypt the message.\n",
    "\n",
    "**Note.** The message and the cipher key will change each time you execute the above cell."
   ]
  },
  {
   "cell_type": "code",
   "execution_count": null,
   "metadata": {},
   "outputs": [],
   "source": []
  }
 ],
 "metadata": {
  "kernelspec": {
   "display_name": "Python 3",
   "language": "python",
   "name": "python3"
  },
  "language_info": {
   "codemirror_mode": {
    "name": "ipython",
    "version": 3
   },
   "file_extension": ".py",
   "mimetype": "text/x-python",
   "name": "python",
   "nbconvert_exporter": "python",
   "pygments_lexer": "ipython3",
   "version": "3.6.4"
  }
 },
 "nbformat": 4,
 "nbformat_minor": 2
}
