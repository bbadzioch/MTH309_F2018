{
 "cells": [
  {
   "cell_type": "markdown",
   "metadata": {},
   "source": [
    "<table style = \"width:100%; table-layout: fixed; border-collapse: collapse; border: 2px solid red; font-size: 100%; color:red; align=left;\">\n",
    "<tr style = \"border: 2px solid red;\">\n",
    "<th colspan=\"9\" style = \"text-align: left; border: 2px solid red; font-size: 100%; background-color:Gainsboro;\">Aaron Durrence</th>\n",
    "</tr>\n",
    "</table>"
   ]
  },
  {
   "cell_type": "markdown",
   "metadata": {},
   "source": [
    "<table  style=\"width:100%; table-layout: fixed; border-collapse: collapse; border: 2px solid red; font-size: 100%; color:red; align=left;\">\n",
    "<tr style = \"border: 2px solid red;\">\n",
    "<th colspan=\"9\" style = \"text-align: left; border: 2px solid red; font-size: 100%; background-color:Gainsboro;\">Aaron Durrence</th>\n",
    "</tr>\n",
    "</table>"
   ]
  },
  {
   "cell_type": "code",
   "execution_count": null,
   "metadata": {},
   "outputs": [],
   "source": []
  }
 ],
 "metadata": {
  "kernelspec": {
   "display_name": "Python 3",
   "language": "python",
   "name": "python3"
  },
  "language_info": {
   "codemirror_mode": {
    "name": "ipython",
    "version": 3
   },
   "file_extension": ".py",
   "mimetype": "text/x-python",
   "name": "python",
   "nbconvert_exporter": "python",
   "pygments_lexer": "ipython3",
   "version": "3.6.4"
  }
 },
 "nbformat": 4,
 "nbformat_minor": 2
}
