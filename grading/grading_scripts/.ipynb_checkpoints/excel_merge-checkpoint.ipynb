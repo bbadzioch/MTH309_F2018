{
 "cells": [
  {
   "cell_type": "markdown",
   "metadata": {},
   "source": [
    "Merging of an Excel class spreadsheet downloaded from the HUB with a text file of e-mail addresses "
   ]
  },
  {
   "cell_type": "code",
   "execution_count": 64,
   "metadata": {},
   "outputs": [
    {
     "name": "stderr",
     "output_type": "stream",
     "text": [
      "/Users/bb1/anaconda3/lib/python3.6/site-packages/openpyxl/reader/worksheet.py:312: UserWarning: Unknown extension is not supported and will be removed\n",
      "  warn(msg)\n"
     ]
    }
   ],
   "source": [
    "import openpyxl\n",
    "\n",
    "students_file = \"grades_MTH309Y.xlsx\"\n",
    "sheet = \"students\"\n",
    "emails_col = \"F\" #new column where e-mail addresses will be entered\n",
    "emails_col_num = openpyxl.utils.column_index_from_string(emails_col)\n",
    "\n",
    "emails_file = \"emails309.txt\" # text file with e-mail addresses separated by commas\n",
    "\n",
    "with open(emails_file, 'r') as f:\n",
    "    emails = f.read().replace(' ', '').split(',')\n",
    "\n",
    "wbook = openpyxl.load_workbook(students_file, data_only=True)\n",
    "wsheet = wbook[sheet]\n",
    "\n",
    "wsheet[emails_col + \"1\"].value = \"Emails\"\n",
    "\n",
    "for r, e in zip(wbook[sheet].iter_rows(row_offset = 1), emails):\n",
    "    r[emails_col_num -1].value = e\n",
    "\n",
    "wbook.save(filename = \"test.xlsx\")"
   ]
  },
  {
   "cell_type": "markdown",
   "metadata": {},
   "source": [
    "Sent e-mails"
   ]
  },
  {
   "cell_type": "code",
   "execution_count": null,
   "metadata": {},
   "outputs": [],
   "source": [
    "from email.message import EmailMessage\n",
    "import smtplib\n",
    "\n",
    "def send_emails(instructor_password, num):\n",
    "    \n",
    "    student_file = \"../grades{}.xlsx\"\n",
    "    sheet = \"students\"\n",
    "    \n",
    "    grades = openpyxl.load_workbook(student_file, data_only=True, read_only = True)[sheet] \n",
    "    \n",
    "\n",
    "    ubit_col = 1\n",
    "    name_col = 2\n",
    "    row_offset = 2\n",
    "    grade_cols = (3, 10)\n",
    "    \n",
    "    instructor_email = \"badzioch@buffalo.edu\"\n",
    "    \n",
    "    instructor_name = \"BB\"\n",
    "    \n",
    "    msg_txt = (\"Dear {fname},\\n\\n\"\n",
    "               \"I am attaching an html file containing your graded MTH 309 homework assignment {num}. \"\n",
    "               \"You can open it in any web browser.\\n\\n\"\n",
    "               \"Best regards,\\n\\n\"\n",
    "               \"{instructor_name}\\n\\n\")\n",
    "\n",
    "    \n",
    "    server = smtplib.SMTP_SSL('smtp.buffalo.edu', 465)\n",
    "    server.login(instructor_email, instructor_password)\n",
    "    \n",
    "    \n",
    "    for r in grades.iter_rows(row_offset=row_offset):\n",
    "        if r[ubit_col].value == None:\n",
    "            continue\n",
    "        else:\n",
    "            name = r[name_col].value\n",
    "            ubit = r[ubit_col].value\n",
    "            \n",
    "            s_email = ubit + \"@buffalo.edu\"\n",
    "            text = msg_txt.format(fname = name, num = num, instructor_name = instructor_name)\n",
    "            html_file = \"{}_hw_{}_graded.html\".format(ubit, num)\n",
    "            html_path = graded_path + html_file\n",
    "            if not os.path.isfile(html_path):\n",
    "                print('>{:30} *********** FILE NOT FOUND'.format(name))\n",
    "                continue \n",
    "        \n",
    "            msg = EmailMessage()\n",
    "            msg['Subject'] = \"MTH 309 homework {}\".format(num)\n",
    "            msg['From'] = instructor_email\n",
    "            msg['To'] = s_email\n",
    "            \n",
    "            msg['Content-Type'] = \"text/plain; charset=utf-8; format=flowed\"\n",
    "            msg.set_content(text)\n",
    "                        \n",
    "            with open(html_path, 'rb') as f:\n",
    "                msg.add_attachment(f.read(), maintype = \"text\", subtype = \"html\", filename = html_file)\n",
    "                \n",
    "            body = msg.get_body()\n",
    "            body.replace_header('Content-Type', 'text/plain; charset=utf-8; format=flowed')\n",
    "    \n",
    "            for p in msg.walk():\n",
    "                if p['Content-Type'] == 'text/html':\n",
    "                    p.replace_header('Content-Type', 'text/html; name={}'.format(html_file))\n",
    "                    break\n",
    "            try:\n",
    "                #change to_addrs\n",
    "                server.send_message(msg, from_addr = instructor_email, to_addrs = instructor_email)\n",
    "            except (smtplib.SMTPRecipientsRefused, \n",
    "                    smtplib.SMTPHeloError, \n",
    "                    smtplib.SMTPSenderRefused, \n",
    "                    smtplib.SMTPDataError, \n",
    "                    smtplib.SMTPNotSupportedError):\n",
    "                print('{:30} *********** NOT SENT'.format(name))\n",
    "            \n",
    "            else:\n",
    "                print('{:30} *********** SENT'.format(name))\n",
    "    \n",
    "    server.quit()"
   ]
  }
 ],
 "metadata": {
  "kernelspec": {
   "display_name": "Python 3",
   "language": "python",
   "name": "python3"
  },
  "language_info": {
   "codemirror_mode": {
    "name": "ipython",
    "version": 3
   },
   "file_extension": ".py",
   "mimetype": "text/x-python",
   "name": "python",
   "nbconvert_exporter": "python",
   "pygments_lexer": "ipython3",
   "version": "3.6.4"
  }
 },
 "nbformat": 4,
 "nbformat_minor": 2
}
