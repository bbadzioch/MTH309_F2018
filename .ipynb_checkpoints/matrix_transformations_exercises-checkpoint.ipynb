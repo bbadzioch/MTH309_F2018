{
 "cells": [
  {
   "cell_type": "markdown",
   "metadata": {
    "editable": false
   },
   "source": [
    "### <span style=\"color:red\">**IMPORTANT: Execute the cell below before proceeding:**</span> \n"
   ]
  },
  {
   "cell_type": "code",
   "execution_count": 1,
   "metadata": {},
   "outputs": [
    {
     "name": "stdout",
     "output_type": "stream",
     "text": [
      "Resource check finished.\n"
     ]
    }
   ],
   "source": [
    "from resources309 import *\n",
    "get_resources(\"matrix_t.py\")\n",
    "\n",
    "from py309.matrix_t import *"
   ]
  },
  {
   "cell_type": "markdown",
   "metadata": {},
   "source": [
    "# Matrix transformations exercises"
   ]
  },
  {
   "cell_type": "markdown",
   "metadata": {},
   "source": [
    "The function `matrix_t()` illustrates the effect of matrix transformations. It displays a drawing of a house on the left side, and on the right side the same drawing, after a matrix transformation $T_A$ defined by a $2\\times 2$ matrix $A$ has been applied to it:"
   ]
  },
  {
   "cell_type": "code",
   "execution_count": 3,
   "metadata": {
    "scrolled": true
   },
   "outputs": [
    {
     "data": {
      "image/png": "[encoded data removed]",
      "text/plain": [
       "<matplotlib.figure.Figure at 0x110429898>"
      ]
     },
     "metadata": {},
     "output_type": "display_data"
    }
   ],
   "source": [
    "A = [[-1, 2], [1, 3]]\n",
    "matrix_t(A);"
   ]
  },
  {
   "cell_type": "markdown",
   "metadata": {},
   "source": [
    "The left image is always the same, but it will show up as a bigger or smaller picture depending how large the right image is, since both plots are done at the same scale. The black horizontal and vertical lines are the coordinate axes.\n",
    "\n",
    "The matrix `A` is entered row by row: in the example above `[-1, 2]` is the first row and `[1, 3]` is the second row of `A`. Remember to put another pair of square brackets around both rows to indicate that these rows make a matrix: `A = [[-1, 2], [1, 3]]`."
   ]
  },
  {
   "cell_type": "markdown",
   "metadata": {
    "editable": false
   },
   "source": [
    "## Exercise.\n",
    "\n",
    "In each of the cases below find a $2\\times 2$ matrix $A$ such that the matrix transformation \n",
    "$$T_A \\colon {\\mathbb R}^2 \\to  {\\mathbb R}^2 $$\n",
    "transforms the image as indicated."
   ]
  },
  {
   "cell_type": "markdown",
   "metadata": {},
   "source": [
    "**(a)** The image is magnified by the factor of 2:\n",
    "\n",
    "![ The image is magnified by the factor of 2:](supplements/scale_house.pdf)"
   ]
  },
  {
   "cell_type": "markdown",
   "metadata": {},
   "source": [
    "**Solution:**"
   ]
  },
  {
   "cell_type": "code",
   "execution_count": null,
   "metadata": {},
   "outputs": [],
   "source": []
  },
  {
   "cell_type": "markdown",
   "metadata": {},
   "source": [
    "**(b)** The image is reflected with respect to the $x$-axis:\n",
    "\n",
    "![ The image is magnified by the factor of 2:](supplements/reflectx_house.pdf)"
   ]
  },
  {
   "cell_type": "markdown",
   "metadata": {},
   "source": [
    "**Solution:**"
   ]
  },
  {
   "cell_type": "code",
   "execution_count": null,
   "metadata": {},
   "outputs": [],
   "source": []
  },
  {
   "cell_type": "markdown",
   "metadata": {},
   "source": [
    "**(c)** The image is reflected with respect to the $y$-axis:\n",
    "\n",
    "![ The image is magnified by the factor of 2:](supplements/reflecty_house.pdf)"
   ]
  },
  {
   "cell_type": "markdown",
   "metadata": {},
   "source": [
    "**Solution:**"
   ]
  },
  {
   "cell_type": "code",
   "execution_count": null,
   "metadata": {},
   "outputs": [],
   "source": []
  },
  {
   "cell_type": "markdown",
   "metadata": {},
   "source": [
    "**(d)** The image is reflected with respect to the origin of the coordinate system:\n",
    "\n",
    "![ The image is magnified by the factor of 2:](supplements/reflect_orig_house.pdf)"
   ]
  },
  {
   "cell_type": "markdown",
   "metadata": {},
   "source": [
    "**Solution:**"
   ]
  },
  {
   "cell_type": "code",
   "execution_count": null,
   "metadata": {},
   "outputs": [],
   "source": []
  },
  {
   "cell_type": "markdown",
   "metadata": {},
   "source": [
    "**(e)** The image is rotated 90 degrees counter-clockwise:\n",
    "\n",
    "![ The image is magnified by the factor of 2:](supplements/rot90_house.pdf)"
   ]
  },
  {
   "cell_type": "markdown",
   "metadata": {},
   "source": [
    "**Solution:**"
   ]
  },
  {
   "cell_type": "code",
   "execution_count": null,
   "metadata": {},
   "outputs": [],
   "source": []
  },
  {
   "cell_type": "markdown",
   "metadata": {},
   "source": [
    "**(f)** The image is rotated 45 degrees clockwise:\n",
    "\n",
    "![ The image is magnified by the factor of 2:](supplements/rot45_house.pdf)"
   ]
  },
  {
   "cell_type": "markdown",
   "metadata": {},
   "source": [
    "**Solution:**"
   ]
  },
  {
   "cell_type": "code",
   "execution_count": null,
   "metadata": {},
   "outputs": [],
   "source": []
  },
  {
   "cell_type": "markdown",
   "metadata": {},
   "source": [
    "**(g)** The image is skewed as follows:\n",
    "\n",
    "![ The image is magnified by the factor of 2:](supplements/shear_house.pdf)"
   ]
  },
  {
   "cell_type": "markdown",
   "metadata": {},
   "source": [
    "**Solution:**"
   ]
  },
  {
   "cell_type": "code",
   "execution_count": null,
   "metadata": {},
   "outputs": [],
   "source": []
  }
 ],
 "metadata": {
  "kernelspec": {
   "display_name": "Python 3",
   "language": "python",
   "name": "python3"
  },
  "language_info": {
   "codemirror_mode": {
    "name": "ipython",
    "version": 3
   },
   "file_extension": ".py",
   "mimetype": "text/x-python",
   "name": "python",
   "nbconvert_exporter": "python",
   "pygments_lexer": "ipython3",
   "version": "3.6.4"
  }
 },
 "nbformat": 4,
 "nbformat_minor": 2
}
