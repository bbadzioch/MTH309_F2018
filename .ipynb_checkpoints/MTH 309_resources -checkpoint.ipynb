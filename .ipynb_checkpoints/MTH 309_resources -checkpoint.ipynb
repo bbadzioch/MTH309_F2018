{
 "cells": [
  {
   "cell_type": "markdown",
   "metadata": {},
   "source": [
    "# MTH resources download"
   ]
  },
  {
   "cell_type": "markdown",
   "metadata": {},
   "source": [
    "Execute the cell below to download MTH 309 Python resources. You need to be connected to the internet for this to work.   "
   ]
  },
  {
   "cell_type": "code",
   "execution_count": null,
   "metadata": {},
   "outputs": [],
   "source": [
    "import requests\n",
    "from os import getcwd, makedirs\n",
    "from os.path import join, isdir, isfile\n",
    "\n",
    "\n",
    "url_root = \"https://raw.githubusercontent.com/bbadzioch/MTH309_F2018/master/\"\n",
    "\n",
    "def get_resources_script():\n",
    "\n",
    "    global url_root\n",
    "\n",
    "    fname = \"resources309.py\"\n",
    "    cwd = getcwd()\n",
    "    \n",
    "\n",
    "    if not isfile(join(cwd, fname)):\n",
    "        print(\"Downloading \"+ fname + \"...\", end=\"\")\n",
    "        try:\n",
    "            r = requests.get(url_root + fname)\n",
    "        except requests.ConnectionError:\n",
    "            print(\"\\n\\nCONNECTION ERROR. Check your internet connection.\")\n",
    "            return None\n",
    "        if not r.status_code == requests.codes.ok:\n",
    "            if r.status_code == 404:\n",
    "                print(\"FILE NOT FOUND 404\")\n",
    "            else:\n",
    "                print(\"Status code: {}.\".format(r.status_code))\n",
    "\n",
    "        with open(fname , \"wb\") as f:\n",
    "            f.write(r.content)\n",
    "        print(\"Done.\")\n",
    "\n",
    "        \n",
    "def get_notebooks():\n",
    "\n",
    "    notebook_list = \"notebook_list.txt\"\n",
    "    cwd = getcwd()\n",
    "\n",
    "    try:\n",
    "        r = requests.get(url_root + notebook_list)\n",
    "    except:\n",
    "        print(\"\\n\\nCONNECTION ERROR. Check your internet connection.\")\n",
    "        return None\n",
    "    for nname in r.text.split('\\n'):\n",
    "        nname = nname.strip()\n",
    "        if nname == \"\":\n",
    "            continue\n",
    "        nname = nname + \".ipynb\"\n",
    "        if not isfile(join(cwd, nname)):\n",
    "            print(\"Downloading \"+ nname + \"...\", end=\"\")\n",
    "            try:\n",
    "                nr = requests.get(url_root + nname)\n",
    "            except requests.ConnectionError:\n",
    "                print(\"\\n\\nCONNECTION ERROR. Check your internet connection.\")\n",
    "                return None\n",
    "            if not nr.status_code == requests.codes.ok:\n",
    "                if nr.status_code == 404:\n",
    "                    print(\"FILE NOT FOUND 404\")\n",
    "                else:\n",
    "                    print(\"Status code: {}.\".format(nr.status_code))\n",
    "                continue\n",
    "\n",
    "            with open(join(cwd , nname) , \"wb\") as f:\n",
    "                f.write(nr.content)\n",
    "            print(\"done.\")\n",
    "\n",
    "    print(\"Download finished.\")\n",
    "\n",
    "\n",
    "get_resources_script()\n",
    "get_notebooks()"
   ]
  }
 ],
 "metadata": {
  "kernelspec": {
   "display_name": "Python 3",
   "language": "python",
   "name": "python3"
  },
  "language_info": {
   "codemirror_mode": {
    "name": "ipython",
    "version": 3
   },
   "file_extension": ".py",
   "mimetype": "text/x-python",
   "name": "python",
   "nbconvert_exporter": "python",
   "pygments_lexer": "ipython3",
   "version": "3.6.4"
  }
 },
 "nbformat": 4,
 "nbformat_minor": 2
}
