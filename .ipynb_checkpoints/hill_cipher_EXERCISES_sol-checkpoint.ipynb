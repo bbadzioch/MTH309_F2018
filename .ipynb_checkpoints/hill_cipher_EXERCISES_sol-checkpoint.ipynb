{
 "cells": [
  {
   "cell_type": "markdown",
   "metadata": {},
   "source": [
    "### <span style=\"color:red\">**IMPORTANT: Execute the cell below before proceeding:**</span> "
   ]
  },
  {
   "cell_type": "code",
   "execution_count": 1,
   "metadata": {},
   "outputs": [
    {
     "name": "stdout",
     "output_type": "stream",
     "text": [
      "Resource check finished.\n"
     ]
    }
   ],
   "source": [
    "from resources309 import *\n",
    "get_resources(\"hill_cipher.py\")\n",
    "\n",
    "from py309.hill_cipher import *\n",
    "from sympy import *\n",
    "init_printing(use_latex='mathjax')"
   ]
  },
  {
   "cell_type": "markdown",
   "metadata": {},
   "source": [
    "# Hill cipher exercises"
   ]
  },
  {
   "cell_type": "markdown",
   "metadata": {},
   "source": [
    "**Note:** The functions `char2num()` and `num2char()` should be helpful with these exercises. `char2num()` converts capital letters into numbers:"
   ]
  },
  {
   "cell_type": "code",
   "execution_count": 2,
   "metadata": {},
   "outputs": [
    {
     "data": {
      "text/latex": [
       "$$\\left [ 1, \\quad 2, \\quad 3, \\quad 4, \\quad 5, \\quad 6\\right ]$$"
      ],
      "text/plain": [
       "[1, 2, 3, 4, 5, 6]"
      ]
     },
     "execution_count": 2,
     "metadata": {},
     "output_type": "execute_result"
    }
   ],
   "source": [
    "char2num(\"ABCDEF\")"
   ]
  },
  {
   "cell_type": "markdown",
   "metadata": {},
   "source": [
    "Conversely, `num2char()` converts a list of numbers into corresponding characters. It also displays a black block for each number on the list that does not correspond to any character:"
   ]
  },
  {
   "cell_type": "code",
   "execution_count": 3,
   "metadata": {},
   "outputs": [
    {
     "name": "stdout",
     "output_type": "stream",
     "text": [
      "  20   8   9  19   0   9  19   0   1   0  20   5  19  20 100  -1\n",
      "   T   H   I   S   _   I   S   _   A   _   T   E   S   T   █   █\n",
      "\n"
     ]
    }
   ],
   "source": [
    "mylist = [20,8,9,19,0,9,19,0,1,0,20,5,19,20, 100, -1]\n",
    "num2char(mylist)"
   ]
  },
  {
   "cell_type": "markdown",
   "metadata": {},
   "source": [
    "----"
   ]
  },
  {
   "cell_type": "markdown",
   "metadata": {},
   "source": [
    "### Exercise 1 (20 pt)\n",
    "\n",
    "Execute the next cell to produce a message encrypted with the Hill cipher:\n"
   ]
  },
  {
   "cell_type": "code",
   "execution_count": 8,
   "metadata": {},
   "outputs": [
    {
     "data": {
      "text/latex": [
       "$$\\left [ 46, \\quad 28, \\quad 13, \\quad 34, \\quad 12, \\quad 17, \\quad 57, \\quad 38, \\quad 19, \\quad 27, \\quad 1, \\quad 13, \\quad 91, \\quad 33, \\quad 38, \\quad 25, \\quad 13, \\quad 12, \\quad 52, \\quad 9, \\quad 24, \\quad 55, \\quad 27, \\quad 23, \\quad 59, \\quad 19, \\quad 20, \\quad 18, \\quad 13, \\quad 5, \\quad 60, \\quad 17, \\quad 24, \\quad 35, \\quad 19, \\quad 8, \\quad 33, \\quad 5, \\quad 14, \\quad 23, \\quad 10, \\quad 9, \\quad 19, \\quad 19, \\quad 0\\right ]$$"
      ],
      "text/plain": [
       "[46, 28, 13, 34, 12, 17, 57, 38, 19, 27, 1, 13, 91, 33, 38, 25, 13, 12, 52, 9,\n",
       " 24, 55, 27, 23, 59, 19, 20, 18, 13, 5, 60, 17, 24, 35, 19, 8, 33, 5, 14, 23, \n",
       "10, 9, 19, 19, 0]"
      ]
     },
     "execution_count": 8,
     "metadata": {},
     "output_type": "execute_result"
    }
   ],
   "source": [
    "K = Matrix([[1, 2, 2], [1, 1, 0], [0, 1, 1]])\n",
    "cipher = hill_encoder(A=K)\n",
    "cipher"
   ]
  },
  {
   "cell_type": "markdown",
   "metadata": {},
   "source": [
    "The cipher key which was used to encrypt this message is the  following matrix:\n",
    "\n",
    "$$K = \n",
    "\\begin{bmatrix}\n",
    "1 & 2 & 2 \\\\\n",
    "1 & 1 & 0 \\\\\n",
    "0 & 1 & 1 \\\\\n",
    "\\end{bmatrix}\n",
    "$$\n",
    "\n",
    "Decrypt the message.\n",
    "\n",
    "\n",
    "**Note.** Encrypted messages are randomly generated from a list of aphorisms. The message will change each time you execute the above cell."
   ]
  },
  {
   "cell_type": "markdown",
   "metadata": {},
   "source": [
    "<span style=\"color:red;\">**Solution:**</span>"
   ]
  },
  {
   "cell_type": "code",
   "execution_count": 9,
   "metadata": {},
   "outputs": [
    {
     "data": {
      "text/latex": [
       "$$\\left[\\begin{matrix}1 & 0 & -2\\\\-1 & 1 & 2\\\\1 & -1 & -1\\end{matrix}\\right]$$"
      ],
      "text/plain": [
       "⎡1   0   -2⎤\n",
       "⎢          ⎥\n",
       "⎢-1  1   2 ⎥\n",
       "⎢          ⎥\n",
       "⎣1   -1  -1⎦"
      ]
     },
     "execution_count": 9,
     "metadata": {},
     "output_type": "execute_result"
    }
   ],
   "source": [
    "# cipher key matrix\n",
    "K = Matrix([[1, 2, 2], [1, 1, 0], [0, 1, 1]])\n",
    "# the inverse of the cipher key is the decryption key\n",
    "D = K.inv()\n",
    "D"
   ]
  },
  {
   "cell_type": "code",
   "execution_count": 10,
   "metadata": {},
   "outputs": [
    {
     "data": {
      "text/latex": [
       "$$\\left[\\begin{array}{ccccccccccccccc}46 & 34 & 57 & 27 & 91 & 25 & 52 & 55 & 59 & 18 & 60 & 35 & 33 & 23 & 19\\\\28 & 12 & 38 & 1 & 33 & 13 & 9 & 27 & 19 & 13 & 17 & 19 & 5 & 10 & 19\\\\13 & 17 & 19 & 13 & 38 & 12 & 24 & 23 & 20 & 5 & 24 & 8 & 14 & 9 & 0\\end{array}\\right]$$"
      ],
      "text/plain": [
       "⎡46  34  57  27  91  25  52  55  59  18  60  35  33  23  19⎤\n",
       "⎢                                                          ⎥\n",
       "⎢28  12  38  1   33  13  9   27  19  13  17  19  5   10  19⎥\n",
       "⎢                                                          ⎥\n",
       "⎣13  17  19  13  38  12  24  23  20  5   24  8   14  9   0 ⎦"
      ]
     },
     "execution_count": 10,
     "metadata": {},
     "output_type": "execute_result"
    }
   ],
   "source": [
    "# make a matrix whose columns are vectors obtained by splitting the encrypted message:\n",
    "M = Matrix(cipher).reshape(len(cipher)//3,3).T\n",
    "M "
   ]
  },
  {
   "cell_type": "code",
   "execution_count": 11,
   "metadata": {},
   "outputs": [
    {
     "name": "stdout",
     "output_type": "stream",
     "text": [
      "  20   8   5   0  12   5  19  19   0   1   0  13  15  18  20   1  12   0   4   5\n",
      "   T   H   E   _   L   E   S   S   _   A   _   M   O   R   T   A   L   _   D   E\n",
      "\n",
      "  19   9  18   5  19   0  20   8   5   0  12   5  19  19   0   8   5   0  14   5\n",
      "   S   I   R   E   S   _   T   H   E   _   L   E   S   S   _   H   E   _   N   E\n",
      "\n",
      "   5   4  19   0   0\n",
      "   E   D   S   _   _\n",
      "\n"
     ]
    }
   ],
   "source": [
    "# multiplying the matrix M by the decryption key D descrypts the message\n",
    "DM = D*M\n",
    "decrypted = list(DM.T)\n",
    "#replace numbers by corresponding characters\n",
    "num2char(decrypted)"
   ]
  },
  {
   "cell_type": "markdown",
   "metadata": {},
   "source": [
    "----"
   ]
  },
  {
   "cell_type": "markdown",
   "metadata": {},
   "source": [
    "### Exercise 2 (40 pt)\n",
    "\n",
    "Execute the next cell to produce a message encrypted with the Hill cipher cipher:"
   ]
  },
  {
   "cell_type": "code",
   "execution_count": 12,
   "metadata": {},
   "outputs": [
    {
     "data": {
      "text/latex": [
       "$$\\left [ 16, \\quad 33, \\quad 47, \\quad 47, \\quad 95, \\quad 132, \\quad 20, \\quad 36, \\quad 55, \\quad 13, \\quad 12, \\quad 30, \\quad 31, \\quad 18, \\quad 68, \\quad 36, \\quad 87, \\quad 108, \\quad 59, \\quad 99, \\quad 156, \\quad 16, \\quad 44, \\quad 48, \\quad 12, \\quad 28, \\quad 35, \\quad 32, \\quad 54, \\quad 82, \\quad 43, \\quad 85, \\quad 121, \\quad 30, \\quad 55, \\quad 83, \\quad 11, \\quad 12, \\quad 28, \\quad 19, \\quad 39, \\quad 57, \\quad 32, \\quad 59, \\quad 91, \\quad 43, \\quad 104, \\quad 129, \\quad 37, \\quad 76, \\quad 102, \\quad 21, \\quad 56, \\quad 63\\right ]$$"
      ],
      "text/plain": [
       "[16, 33, 47, 47, 95, 132, 20, 36, 55, 13, 12, 30, 31, 18, 68, 36, 87, 108, 59,\n",
       " 99, 156, 16, 44, 48, 12, 28, 35, 32, 54, 82, 43, 85, 121, 30, 55, 83, 11, 12,\n",
       " 28, 19, 39, 57, 32, 59, 91, 43, 104, 129, 37, 76, 102, 21, 56, 63]"
      ]
     },
     "execution_count": 12,
     "metadata": {},
     "output_type": "execute_result"
    }
   ],
   "source": [
    "cipher = make_cipher()\n",
    "cipher"
   ]
  },
  {
   "cell_type": "markdown",
   "metadata": {},
   "source": [
    "The message starts with the word \"CLASSIFIED\". Decrypt the message.\n",
    "\n",
    "**Note.** The message and the cipher key will change each time you execute the above cell."
   ]
  },
  {
   "cell_type": "markdown",
   "metadata": {},
   "source": [
    "<span style=\"color:red;\">**Solution:**</span>"
   ]
  },
  {
   "cell_type": "code",
   "execution_count": 13,
   "metadata": {},
   "outputs": [
    {
     "data": {
      "text/latex": [
       "$$\\left[\\begin{matrix}3 & 19 & 6\\\\12 & 19 & 9\\\\1 & 9 & 5\\end{matrix}\\right]$$"
      ],
      "text/plain": [
       "⎡3   19  6⎤\n",
       "⎢         ⎥\n",
       "⎢12  19  9⎥\n",
       "⎢         ⎥\n",
       "⎣1   9   5⎦"
      ]
     },
     "execution_count": 13,
     "metadata": {},
     "output_type": "execute_result"
    }
   ],
   "source": [
    "plain = char2num(\"CLASSIFIE\")\n",
    "P = Matrix(plain).reshape(3,3).T\n",
    "P"
   ]
  },
  {
   "cell_type": "code",
   "execution_count": 14,
   "metadata": {},
   "outputs": [
    {
     "data": {
      "text/latex": [
       "$$\\left[\\begin{matrix}4 & 1 & -2\\\\-6 & -1 & 3\\\\3 & 0 & -1\\end{matrix}\\right]$$"
      ],
      "text/plain": [
       "⎡4   1   -2⎤\n",
       "⎢          ⎥\n",
       "⎢-6  -1  3 ⎥\n",
       "⎢          ⎥\n",
       "⎣3   0   -1⎦"
      ]
     },
     "execution_count": 14,
     "metadata": {},
     "output_type": "execute_result"
    }
   ],
   "source": [
    "#compute the decryption matrix\n",
    "EP = Matrix(cipher[:9]).reshape(3,3).T\n",
    "D = P*EP.inv()\n",
    "D"
   ]
  },
  {
   "cell_type": "code",
   "execution_count": 15,
   "metadata": {},
   "outputs": [
    {
     "name": "stdout",
     "output_type": "stream",
     "text": [
      "   3  12   1  19  19   9   6   9   5   4   0   9   6   0  25  15  21   0  23  15\n",
      "   C   L   A   S   S   I   F   I   E   D   _   I   F   _   Y   O   U   _   W   O\n",
      "\n",
      "  21  12   4   0   6   5   1  18   0  14  15  20   8   9  14   7   0   6   5   1\n",
      "   U   L   D   _   F   E   A   R   _   N   O   T   H   I   N   G   _   F   E   A\n",
      "\n",
      "  18   0   5  22   5  18  25   0  20   8   9  14   7   0\n",
      "   R   _   E   V   E   R   Y   _   T   H   I   N   G   _\n",
      "\n"
     ]
    }
   ],
   "source": [
    "#decrypt the message\n",
    "C = Matrix(cipher).reshape(len(cipher)//3, 3).T\n",
    "DC = (D*C).T\n",
    "num2char(list(DC))"
   ]
  },
  {
   "cell_type": "code",
   "execution_count": null,
   "metadata": {},
   "outputs": [],
   "source": []
  }
 ],
 "metadata": {
  "kernelspec": {
   "display_name": "Python 3",
   "language": "python",
   "name": "python3"
  },
  "language_info": {
   "codemirror_mode": {
    "name": "ipython",
    "version": 3
   },
   "file_extension": ".py",
   "mimetype": "text/x-python",
   "name": "python",
   "nbconvert_exporter": "python",
   "pygments_lexer": "ipython3",
   "version": "3.6.4"
  }
 },
 "nbformat": 4,
 "nbformat_minor": 2
}
