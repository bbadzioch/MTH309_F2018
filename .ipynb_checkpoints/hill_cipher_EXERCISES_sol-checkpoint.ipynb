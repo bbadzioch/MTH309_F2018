{
 "cells": [
  {
   "cell_type": "markdown",
   "metadata": {},
   "source": [
    "### <span style=\"color:red\">**IMPORTANT: Execute the cell below before proceeding:**</span> "
   ]
  },
  {
   "cell_type": "code",
   "execution_count": 2,
   "metadata": {},
   "outputs": [
    {
     "name": "stdout",
     "output_type": "stream",
     "text": [
      "Resource check finished.\n"
     ]
    }
   ],
   "source": [
    "from resources309 import *\n",
    "get_resources(\"hill_cipher.py\")\n",
    "\n",
    "from py309.hill_cipher import *\n",
    "from sympy import *\n",
    "init_printing(use_latex='mathjax')"
   ]
  },
  {
   "cell_type": "markdown",
   "metadata": {},
   "source": [
    "# Hill cipher exercises"
   ]
  },
  {
   "cell_type": "markdown",
   "metadata": {},
   "source": [
    "**Note:** The functions `char2num()` and `num2char()` should be helpful with these exercises. `char2num()` converts capital letters into numbers:"
   ]
  },
  {
   "cell_type": "code",
   "execution_count": 17,
   "metadata": {},
   "outputs": [
    {
     "data": {
      "text/latex": [
       "$$\\left [ 1, \\quad 2, \\quad 3, \\quad 4, \\quad 5, \\quad 6\\right ]$$"
      ],
      "text/plain": [
       "[1, 2, 3, 4, 5, 6]"
      ]
     },
     "execution_count": 17,
     "metadata": {},
     "output_type": "execute_result"
    }
   ],
   "source": [
    "char2num(\"ABCDEF\")"
   ]
  },
  {
   "cell_type": "markdown",
   "metadata": {},
   "source": [
    "Conversely, `num2char()` converts a list of numbers into corresponding characters. It also displays a black block for each number on the list that does not correspond to any character:"
   ]
  },
  {
   "cell_type": "code",
   "execution_count": 18,
   "metadata": {},
   "outputs": [
    {
     "name": "stdout",
     "output_type": "stream",
     "text": [
      "  20   8   9  19   0   9  19   0   1   0  20   5  19  20 100  -1\n",
      "   T   H   I   S   _   I   S   _   A   _   T   E   S   T   █   █\n",
      "\n"
     ]
    }
   ],
   "source": [
    "mylist = [20,8,9,19,0,9,19,0,1,0,20,5,19,20, 100, -1]\n",
    "num2char(mylist)"
   ]
  },
  {
   "cell_type": "markdown",
   "metadata": {},
   "source": [
    "----"
   ]
  },
  {
   "cell_type": "markdown",
   "metadata": {},
   "source": [
    "### Exercise 1 (10 pt)\n",
    "\n",
    "Here is a message encrypted using the Hill cipher:\n",
    "\n",
    "$$67,22,30,24,4,10,19,17,2,61,18,29,45,25,19,86,41,33,59,21,29,81,29,33$$\n",
    "\n",
    "The cipher key which was used to encrypt this message is the following matrix:\n",
    "\n",
    "$$K = \n",
    "\\begin{bmatrix}\n",
    "1 & 2 & 2 \\\\\n",
    "1 & 1 & 0 \\\\\n",
    "0 & 1 & 1 \\\\\n",
    "\\end{bmatrix}\n",
    "$$\n",
    "\n",
    "Decrypt the message. "
   ]
  },
  {
   "cell_type": "markdown",
   "metadata": {},
   "source": [
    "<span style=\"color:red;\">**Solution:**</span>"
   ]
  },
  {
   "cell_type": "code",
   "execution_count": 3,
   "metadata": {},
   "outputs": [
    {
     "data": {
      "text/latex": [
       "$$\\left[\\begin{matrix}1 & 0 & -2\\\\-1 & 1 & 2\\\\1 & -1 & -1\\end{matrix}\\right]$$"
      ],
      "text/plain": [
       "⎡1   0   -2⎤\n",
       "⎢          ⎥\n",
       "⎢-1  1   2 ⎥\n",
       "⎢          ⎥\n",
       "⎣1   -1  -1⎦"
      ]
     },
     "execution_count": 3,
     "metadata": {},
     "output_type": "execute_result"
    }
   ],
   "source": [
    "# cipher key matrix\n",
    "K = Matrix([[1, 2, 2], [1, 1, 0], [0, 1, 1]])\n",
    "# the inverse of the cipher key is the decryption key\n",
    "D = K.inv()\n",
    "D"
   ]
  },
  {
   "cell_type": "code",
   "execution_count": 4,
   "metadata": {},
   "outputs": [
    {
     "data": {
      "text/latex": [
       "$$\\left[\\begin{matrix}67 & 24 & 19 & 61 & 45 & 86 & 59 & 81\\\\22 & 4 & 17 & 18 & 25 & 41 & 21 & 29\\\\30 & 10 & 2 & 29 & 19 & 33 & 29 & 33\\end{matrix}\\right]$$"
      ],
      "text/plain": [
       "⎡67  24  19  61  45  86  59  81⎤\n",
       "⎢                              ⎥\n",
       "⎢22  4   17  18  25  41  21  29⎥\n",
       "⎢                              ⎥\n",
       "⎣30  10  2   29  19  33  29  33⎦"
      ]
     },
     "execution_count": 4,
     "metadata": {},
     "output_type": "execute_result"
    }
   ],
   "source": [
    "# encypted message\n",
    "msg = [67,22,30,24,4,10,19,17,2,61,18,29,45,25,19,86,41,33,59,21,29,81,29,33]\n",
    "# make a matrix whose columns are vectors obtained ny splitting the encrypted message\n",
    "M = Matrix(msg).reshape(len(msg)//3,3).T\n",
    "M "
   ]
  },
  {
   "cell_type": "code",
   "execution_count": 5,
   "metadata": {},
   "outputs": [
    {
     "name": "stdout",
     "output_type": "stream",
     "text": [
      "   7  15  15   4   0  10  15   2   0   3  15  14   7  18   1  20  21  12   1  20\n",
      "   G   O   O   D   _   J   O   B   _   C   O   N   G   R   A   T   U   L   A   T\n",
      "\n",
      "   9  15  14  19\n",
      "   I   O   N   S\n",
      "\n"
     ]
    }
   ],
   "source": [
    "# multiplying the matrix M by the decryption key descrypts the message\n",
    "DM = D*M\n",
    "dmsg = list(DM.T)\n",
    "#replaced numbers by corresponding characters\n",
    "num2char(dmsg)"
   ]
  },
  {
   "cell_type": "markdown",
   "metadata": {},
   "source": [
    "----"
   ]
  },
  {
   "cell_type": "markdown",
   "metadata": {},
   "source": [
    "### Exercise 2 (30 pt)\n",
    "\n",
    "Execute the next cell to produce a message encrypted with the Hill cipher cipher:"
   ]
  },
  {
   "cell_type": "code",
   "execution_count": 16,
   "metadata": {},
   "outputs": [
    {
     "name": "stdout",
     "output_type": "stream",
     "text": [
      "[11, 23, 7, 75, 94, 47, 28, 37, 17, 52, 52, 28, 24, 29, 16, 75, 90, 44, 19, 19, 12, 25, 39, 15, 58, 67, 32, 61, 61, 40, 55, 74, 30, 55, 78, 35, 52, 52, 28, 24, 29, 16, 75, 90, 44, 51, 51, 28, 25, 28, 15, 37, 59, 23, 12, 12, 8]\n"
     ]
    }
   ],
   "source": [
    "cipher = make_cipher()\n",
    "print(cipher)"
   ]
  },
  {
   "cell_type": "markdown",
   "metadata": {},
   "source": [
    "Assume that you know that the message starts with the word \"CLASSIFIED\". Decrypt the message.\n",
    "\n",
    "**Note.** Encrypted messages are generated from randomly selected from a list of aphorisms. The message and the cipher key will change each time you execute the above cell."
   ]
  },
  {
   "cell_type": "markdown",
   "metadata": {},
   "source": [
    "<span style=\"color:red;\">**Solution:**</span>"
   ]
  },
  {
   "cell_type": "code",
   "execution_count": 24,
   "metadata": {},
   "outputs": [
    {
     "data": {
      "text/latex": [
       "$$\\left[\\begin{matrix}3 & 19 & 6\\\\12 & 19 & 9\\\\1 & 9 & 5\\end{matrix}\\right]$$"
      ],
      "text/plain": [
       "⎡3   19  6⎤\n",
       "⎢         ⎥\n",
       "⎢12  19  9⎥\n",
       "⎢         ⎥\n",
       "⎣1   9   5⎦"
      ]
     },
     "execution_count": 24,
     "metadata": {},
     "output_type": "execute_result"
    }
   ],
   "source": [
    "plain = char2num(\"CLASSIFIE\")\n",
    "P = Matrix(plain).reshape(3,3).T\n",
    "P"
   ]
  },
  {
   "cell_type": "code",
   "execution_count": 28,
   "metadata": {},
   "outputs": [
    {
     "data": {
      "text/latex": [
       "$$\\left[\\begin{matrix}-1 & 0 & 2\\\\-1 & 1 & 0\\\\2 & 0 & -3\\end{matrix}\\right]$$"
      ],
      "text/plain": [
       "⎡-1  0  2 ⎤\n",
       "⎢         ⎥\n",
       "⎢-1  1  0 ⎥\n",
       "⎢         ⎥\n",
       "⎣2   0  -3⎦"
      ]
     },
     "execution_count": 28,
     "metadata": {},
     "output_type": "execute_result"
    }
   ],
   "source": [
    "EP = Matrix(cipher[:9]).reshape(3,3).T\n",
    "D = P*EP.inv()\n",
    "D"
   ]
  },
  {
   "cell_type": "code",
   "execution_count": 29,
   "metadata": {},
   "outputs": [
    {
     "name": "stdout",
     "output_type": "stream",
     "text": [
      "   3  12   1  19  19   9   6   9   5   4   0  20   8   5   0  13  15  18   5   0\n",
      "   C   L   A   S   S   I   F   I   E   D   _   T   H   E   _   M   O   R   E   _\n",
      "\n",
      "   2   5  14   5   6   9  20  19   0   2   5  19  20  15  23   5   4   0  20   8\n",
      "   B   E   N   E   F   I   T   S   _   B   E   S   T   O   W   E   D   _   T   H\n",
      "\n",
      "   5   0  13  15  18   5   0  18   5   3   5   9  22   5   4   0   0\n",
      "   E   _   M   O   R   E   _   R   E   C   E   I   V   E   D   _   _\n",
      "\n"
     ]
    }
   ],
   "source": [
    "C = Matrix(cipher).reshape(len(cipher)//3, 3).T\n",
    "DC = (D*C).T\n",
    "num2char(list(DC))"
   ]
  },
  {
   "cell_type": "code",
   "execution_count": null,
   "metadata": {},
   "outputs": [],
   "source": []
  }
 ],
 "metadata": {
  "kernelspec": {
   "display_name": "Python 3",
   "language": "python",
   "name": "python3"
  },
  "language_info": {
   "codemirror_mode": {
    "name": "ipython",
    "version": 3
   },
   "file_extension": ".py",
   "mimetype": "text/x-python",
   "name": "python",
   "nbconvert_exporter": "python",
   "pygments_lexer": "ipython3",
   "version": "3.6.4"
  }
 },
 "nbformat": 4,
 "nbformat_minor": 2
}
