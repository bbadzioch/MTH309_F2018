{
 "cells": [
  {
   "cell_type": "code",
   "execution_count": 1,
   "metadata": {},
   "outputs": [],
   "source": [
    "s= '''<p></p>\n",
    "<div>\n",
    "<p></p>\n",
    " \n",
    "</div>'''"
   ]
  },
  {
   "cell_type": "code",
   "execution_count": 2,
   "metadata": {},
   "outputs": [],
   "source": [
    "import mistune"
   ]
  },
  {
   "cell_type": "code",
   "execution_count": 13,
   "metadata": {},
   "outputs": [
    {
     "data": {
      "text/plain": [
       "'<p></p>\\n<div>\\n<p></p><p></div></p>\\n'"
      ]
     },
     "execution_count": 13,
     "metadata": {},
     "output_type": "execute_result"
    }
   ],
   "source": [
    "mistune.markdown(s, escape=False, parse_block_html=True)"
   ]
  },
  {
   "cell_type": "code",
   "execution_count": 4,
   "metadata": {},
   "outputs": [
    {
     "data": {
      "text/plain": [
       "['BlockGrammar',\n",
       " 'BlockLexer',\n",
       " 'InlineGrammar',\n",
       " 'InlineLexer',\n",
       " 'Markdown',\n",
       " 'Renderer',\n",
       " '__all__',\n",
       " '__author__',\n",
       " '__builtins__',\n",
       " '__cached__',\n",
       " '__doc__',\n",
       " '__file__',\n",
       " '__loader__',\n",
       " '__name__',\n",
       " '__package__',\n",
       " '__spec__',\n",
       " '__version__',\n",
       " '_block_code_leading_pattern',\n",
       " '_block_quote_leading_pattern',\n",
       " '_block_tag',\n",
       " '_escape_pattern',\n",
       " '_inline_tags',\n",
       " '_key_pattern',\n",
       " '_keyify',\n",
       " '_newline_pattern',\n",
       " '_nonalpha_pattern',\n",
       " '_pre_tags',\n",
       " '_pure_pattern',\n",
       " '_scheme_blacklist',\n",
       " '_valid_attr',\n",
       " '_valid_end',\n",
       " 'escape',\n",
       " 'escape_link',\n",
       " 'inspect',\n",
       " 'markdown',\n",
       " 'preprocessing',\n",
       " 're']"
      ]
     },
     "execution_count": 4,
     "metadata": {},
     "output_type": "execute_result"
    }
   ],
   "source": [
    "dir(mistune)"
   ]
  },
  {
   "cell_type": "code",
   "execution_count": 8,
   "metadata": {},
   "outputs": [
    {
     "name": "stdout",
     "output_type": "stream",
     "text": [
      "Help on function markdown in module mistune:\n",
      "\n",
      "markdown(text, escape=True, **kwargs)\n",
      "    Render markdown formatted text to html.\n",
      "    \n",
      "    :param text: markdown formatted text content.\n",
      "    :param escape: if set to False, all html tags will not be escaped.\n",
      "    :param use_xhtml: output with xhtml tags.\n",
      "    :param hard_wrap: if set to True, it will use the GFM line breaks feature.\n",
      "    :param parse_block_html: parse text only in block level html.\n",
      "    :param parse_inline_html: parse text only in inline level html.\n",
      "\n"
     ]
    }
   ],
   "source": [
    "help(mistune.markdown)"
   ]
  },
  {
   "cell_type": "code",
   "execution_count": 14,
   "metadata": {},
   "outputs": [],
   "source": [
    "import re"
   ]
  },
  {
   "cell_type": "code",
   "execution_count": 3,
   "metadata": {},
   "outputs": [
    {
     "data": {
      "text/plain": [
       "<module 'mymistune' from '/Users/bb1/Documents/iPython/MTH309_F2018/mymistune.py'>"
      ]
     },
     "execution_count": 3,
     "metadata": {},
     "output_type": "execute_result"
    }
   ],
   "source": [
    "import mymistune\n",
    "from imp import reload \n",
    "reload(mymistune)"
   ]
  },
  {
   "cell_type": "code",
   "execution_count": 21,
   "metadata": {},
   "outputs": [
    {
     "name": "stdout",
     "output_type": "stream",
     "text": [
      "[{'type': 'paragraph', 'text': 'hello **there** <p></p>'}, {'type': 'list_start', 'ordered': False}, {'type': 'list_item_start'}, {'type': 'text', 'text': 'this * that'}, {'type': 'list_item_end'}, {'type': 'list_end'}]\n"
     ]
    },
    {
     "data": {
      "text/plain": [
       "'<p>hello <strong>there</strong> <p></p></p>\\n<ul>\\n<li>this * that</li>\\n</ul>\\n'"
      ]
     },
     "execution_count": 21,
     "metadata": {},
     "output_type": "execute_result"
    }
   ],
   "source": [
    "mymistune.markdown(\"hello **there** <p></p>\\n\\n* this * that\" , escape = False)"
   ]
  },
  {
   "cell_type": "markdown",
   "metadata": {},
   "source": [
    "* this \n",
    "* that"
   ]
  },
  {
   "cell_type": "code",
   "execution_count": null,
   "metadata": {},
   "outputs": [],
   "source": []
  }
 ],
 "metadata": {
  "kernelspec": {
   "display_name": "Python 3",
   "language": "python",
   "name": "python3"
  },
  "language_info": {
   "codemirror_mode": {
    "name": "ipython",
    "version": 3
   },
   "file_extension": ".py",
   "mimetype": "text/x-python",
   "name": "python",
   "nbconvert_exporter": "python",
   "pygments_lexer": "ipython3",
   "version": "3.6.4"
  }
 },
 "nbformat": 4,
 "nbformat_minor": 2
}
