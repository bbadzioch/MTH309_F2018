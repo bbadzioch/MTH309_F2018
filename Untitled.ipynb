{
 "cells": [
  {
   "cell_type": "code",
   "execution_count": 7,
   "metadata": {},
   "outputs": [],
   "source": [
    "import requests\n",
    "import json"
   ]
  },
  {
   "cell_type": "code",
   "execution_count": 2,
   "metadata": {},
   "outputs": [],
   "source": [
    "r = requests.get(\"https://api.github.com/repos/bbadzioch/MTH309_F2018/contents/\")"
   ]
  },
  {
   "cell_type": "code",
   "execution_count": 5,
   "metadata": {
    "scrolled": false
   },
   "outputs": [],
   "source": [
    "t = r.text"
   ]
  },
  {
   "cell_type": "code",
   "execution_count": 8,
   "metadata": {},
   "outputs": [],
   "source": [
    "s = json.loads(t)"
   ]
  },
  {
   "cell_type": "code",
   "execution_count": 15,
   "metadata": {
    "scrolled": false
   },
   "outputs": [
    {
     "name": "stdout",
     "output_type": "stream",
     "text": [
      "error_correction.ipynb\n",
      "https://raw.githubusercontent.com/bbadzioch/MTH309_F2018/master/error_correction.ipynb\n",
      "hill_cipher_exercises.ipynb\n",
      "https://raw.githubusercontent.com/bbadzioch/MTH309_F2018/master/hill_cipher_exercises.ipynb\n",
      "hill_ciphers.ipynb\n",
      "https://raw.githubusercontent.com/bbadzioch/MTH309_F2018/master/hill_ciphers.ipynb\n",
      "interceptor.ipynb\n",
      "https://raw.githubusercontent.com/bbadzioch/MTH309_F2018/master/interceptor.ipynb\n",
      "linalg_sympy1.ipynb\n",
      "https://raw.githubusercontent.com/bbadzioch/MTH309_F2018/master/linalg_sympy1.ipynb\n",
      "linalg_sympy2.ipynb\n",
      "https://raw.githubusercontent.com/bbadzioch/MTH309_F2018/master/linalg_sympy2.ipynb\n",
      "linalg_sympy_leftovers.ipynb\n",
      "https://raw.githubusercontent.com/bbadzioch/MTH309_F2018/master/linalg_sympy_leftovers.ipynb\n",
      "matrix_multiplication.ipynb\n",
      "https://raw.githubusercontent.com/bbadzioch/MTH309_F2018/master/matrix_multiplication.ipynb\n",
      "matrix_transformations_exercises.ipynb\n",
      "https://raw.githubusercontent.com/bbadzioch/MTH309_F2018/master/matrix_transformations_exercises.ipynb\n",
      "music.ipynb\n",
      "https://raw.githubusercontent.com/bbadzioch/MTH309_F2018/master/music.ipynb\n",
      "orientation.ipynb\n",
      "https://raw.githubusercontent.com/bbadzioch/MTH309_F2018/master/orientation.ipynb\n",
      "perspective.ipynb\n",
      "https://raw.githubusercontent.com/bbadzioch/MTH309_F2018/master/perspective.ipynb\n",
      "rotating_squares.ipynb\n",
      "https://raw.githubusercontent.com/bbadzioch/MTH309_F2018/master/rotating_squares.ipynb\n",
      "strang_house.ipynb\n",
      "https://raw.githubusercontent.com/bbadzioch/MTH309_F2018/master/strang_house.ipynb\n"
     ]
    }
   ],
   "source": [
    "for x in s: \n",
    "    if x['name'].split('.')[-1] == 'ipynb':\n",
    "        print(x['name'])\n",
    "        print(x['download_url'])"
   ]
  },
  {
   "cell_type": "code",
   "execution_count": 16,
   "metadata": {},
   "outputs": [],
   "source": [
    "import os"
   ]
  },
  {
   "cell_type": "code",
   "execution_count": 20,
   "metadata": {},
   "outputs": [
    {
     "data": {
      "text/plain": [
       "True"
      ]
     },
     "execution_count": 20,
     "metadata": {},
     "output_type": "execute_result"
    }
   ],
   "source": [
    "os.path.isdir(\"./py309/\")"
   ]
  },
  {
   "cell_type": "code",
   "execution_count": 23,
   "metadata": {},
   "outputs": [
    {
     "data": {
      "text/plain": [
       "'ala'"
      ]
     },
     "execution_count": 23,
     "metadata": {},
     "output_type": "execute_result"
    }
   ],
   "source": [
    "\"   ala   \\n\".strip()"
   ]
  },
  {
   "cell_type": "code",
   "execution_count": null,
   "metadata": {},
   "outputs": [],
   "source": []
  }
 ],
 "metadata": {
  "kernelspec": {
   "display_name": "Python 3",
   "language": "python",
   "name": "python3"
  },
  "language_info": {
   "codemirror_mode": {
    "name": "ipython",
    "version": 3
   },
   "file_extension": ".py",
   "mimetype": "text/x-python",
   "name": "python",
   "nbconvert_exporter": "python",
   "pygments_lexer": "ipython3",
   "version": "3.6.4"
  }
 },
 "nbformat": 4,
 "nbformat_minor": 2
}
