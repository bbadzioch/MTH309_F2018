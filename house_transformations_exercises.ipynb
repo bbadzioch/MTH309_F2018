{
 "cells": [
  {
   "cell_type": "markdown",
   "metadata": {},
   "source": [
    " ### <span style=\"color:red\">**Enter your name and person number here:**</span> \n",
    " \n",
    " # John Smith 5019-1234"
   ]
  },
  {
   "cell_type": "markdown",
   "metadata": {
    "editable": false
   },
   "source": [
    "### <span style=\"color:red\">**IMPORTANT: Execute the cell below before proceeding:**</span> \n"
   ]
  },
  {
   "cell_type": "code",
   "execution_count": 1,
   "metadata": {},
   "outputs": [
    {
     "name": "stdout",
     "output_type": "stream",
     "text": [
      "Resource check finished.\n"
     ]
    }
   ],
   "source": [
    "%config InlineBackend.figure_format = 'retina'\n",
    "\n",
    "from resources309 import *\n",
    "get_resources(\"matrix_t.py\")\n",
    "\n",
    "from py309.matrix_t import *\n",
    "from sympy import *\n",
    "\n",
    "init_printing(use_latex='mathjax')"
   ]
  },
  {
   "cell_type": "markdown",
   "metadata": {},
   "source": [
    "# House transformations exercises"
   ]
  },
  {
   "cell_type": "markdown",
   "metadata": {},
   "source": [
    "The function `matrix_t()` illustrates the effect of matrix transformations. It displays a drawing of a house on the left side, and on the right side the same drawing, after a matrix transformation $T_A$ defined by a $2\\times 2$ matrix $A$ has been applied to it:"
   ]
  },
  {
   "cell_type": "code",
   "execution_count": null,
   "metadata": {
    "scrolled": false
   },
   "outputs": [],
   "source": [
    "A = Matrix([[-1, -2], [2, 1]])\n",
    "A"
   ]
  },
  {
   "cell_type": "code",
   "execution_count": null,
   "metadata": {},
   "outputs": [],
   "source": [
    "matrix_t(A)"
   ]
  },
  {
   "cell_type": "markdown",
   "metadata": {},
   "source": [
    "The left image is always the same, but it will show up as a bigger or smaller picture depending how large the right image is, since both plots are done at the same scale. The black horizontal and vertical lines are the coordinate axes."
   ]
  },
  {
   "cell_type": "markdown",
   "metadata": {},
   "source": [
    "## Exercises.\n",
    "\n",
    "In each exercise find a $2\\times 2$ matrix $A$ such that the matrix transformation \n",
    "$$T_A \\colon {\\mathbb R}^2 \\to  {\\mathbb R}^2 $$\n",
    "transforms the image as indicated. Plug in this matrix into the function `matrix_t()` to recreate the picture accompanying the exercise."
   ]
  },
  {
   "cell_type": "markdown",
   "metadata": {},
   "source": [
    "### Exercise 1. (5 pts)\n",
    "The image is magnified by the factor of 2:\n",
    "\n",
    "\n",
    "<img src=\"https://raw.githubusercontent.com/bbadzioch/MTH309_F2018/master/supplements/scale_house.png\" style=\"width:650pt;\">"
   ]
  },
  {
   "cell_type": "markdown",
   "metadata": {},
   "source": [
    "### Solution: "
   ]
  },
  {
   "cell_type": "code",
   "execution_count": null,
   "metadata": {},
   "outputs": [],
   "source": []
  },
  {
   "cell_type": "markdown",
   "metadata": {},
   "source": [
    "### Exercise 2. (5 pts)\n",
    "The image is reflected with respect to the $x$-axis:\n",
    "\n",
    "<img src=\"https://raw.githubusercontent.com/bbadzioch/MTH309_F2018/master/supplements/reflectx_house.png\" style=\"width:650pt;\">"
   ]
  },
  {
   "cell_type": "markdown",
   "metadata": {},
   "source": [
    "### Solution:"
   ]
  },
  {
   "cell_type": "code",
   "execution_count": null,
   "metadata": {},
   "outputs": [],
   "source": []
  },
  {
   "cell_type": "markdown",
   "metadata": {},
   "source": [
    "### Exercise 3. (5 pts)\n",
    "The image is reflected with respect to the $y$-axis:\n",
    "\n",
    "<img src=\"https://raw.githubusercontent.com/bbadzioch/MTH309_F2018/master/supplements/reflecty_house.png\" style=\"width:650pt;\">"
   ]
  },
  {
   "cell_type": "markdown",
   "metadata": {},
   "source": [
    "### Solution:"
   ]
  },
  {
   "cell_type": "code",
   "execution_count": null,
   "metadata": {},
   "outputs": [],
   "source": []
  },
  {
   "cell_type": "markdown",
   "metadata": {},
   "source": [
    "### Exercise 4. (5 pts)\n",
    "The image is reflected with respect to the origin of the coordinate system:\n",
    "\n",
    "<img src=\"https://raw.githubusercontent.com/bbadzioch/MTH309_F2018/master/supplements/reflect_orig_house.png\" style=\"width:650pt;\">"
   ]
  },
  {
   "cell_type": "markdown",
   "metadata": {},
   "source": [
    "### Solution:"
   ]
  },
  {
   "cell_type": "code",
   "execution_count": null,
   "metadata": {},
   "outputs": [],
   "source": []
  },
  {
   "cell_type": "markdown",
   "metadata": {},
   "source": [
    "### Exercise 5. (5 pts)\n",
    "The image is rotated 90 degrees counter-clockwise:\n",
    "\n",
    "<img src=\"https://raw.githubusercontent.com/bbadzioch/MTH309_F2018/master/supplements/rot90_house.png\" style=\"width:650pt;\">"
   ]
  },
  {
   "cell_type": "markdown",
   "metadata": {},
   "source": [
    "### Solution:"
   ]
  },
  {
   "cell_type": "code",
   "execution_count": null,
   "metadata": {},
   "outputs": [],
   "source": []
  },
  {
   "cell_type": "markdown",
   "metadata": {},
   "source": [
    "### Exercise 6. (5 pts)\n",
    "The image is rotated 45 degrees clockwise:\n",
    "\n",
    "<img src=\"https://raw.githubusercontent.com/bbadzioch/MTH309_F2018/master/supplements/rot45_house.png\" style=\"width:650pt;\">"
   ]
  },
  {
   "cell_type": "markdown",
   "metadata": {},
   "source": [
    "### Solution:"
   ]
  },
  {
   "cell_type": "code",
   "execution_count": null,
   "metadata": {},
   "outputs": [],
   "source": [
    "matrix_t(A)"
   ]
  },
  {
   "cell_type": "markdown",
   "metadata": {},
   "source": [
    "### Exercise 7. (5 pts)\n",
    "The image is skewed as follows:\n",
    "\n",
    "<img src=\"https://raw.githubusercontent.com/bbadzioch/MTH309_F2018/master/supplements/shear_house.png\" style=\"width:650pt;\">"
   ]
  },
  {
   "cell_type": "markdown",
   "metadata": {},
   "source": [
    "### Solution:"
   ]
  },
  {
   "cell_type": "code",
   "execution_count": null,
   "metadata": {},
   "outputs": [],
   "source": []
  }
 ],
 "metadata": {
  "kernelspec": {
   "display_name": "Python 3",
   "language": "python",
   "name": "python3"
  },
  "language_info": {
   "codemirror_mode": {
    "name": "ipython",
    "version": 3
   },
   "file_extension": ".py",
   "mimetype": "text/x-python",
   "name": "python",
   "nbconvert_exporter": "python",
   "pygments_lexer": "ipython3",
   "version": "3.6.6"
  }
 },
 "nbformat": 4,
 "nbformat_minor": 2
}
